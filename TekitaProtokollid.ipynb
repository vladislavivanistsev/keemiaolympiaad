{
 "cells": [
  {
   "cell_type": "code",
   "execution_count": 1,
   "metadata": {},
   "outputs": [],
   "source": [
    "import pandas as pd"
   ]
  },
  {
   "cell_type": "code",
   "execution_count": 2,
   "metadata": {},
   "outputs": [],
   "source": [
    "klass = [8,9,10,11,12]\n",
    "\n",
    "piirkond = [['Harjumaa',      20],\n",
    "            ['Hiiumaa',       46],\n",
    "            ['Ida-Virumaa',   50],\n",
    "            ['Jõgevamaa',     77],\n",
    "            ['Järvamaa',      38],\n",
    "            ['Kohtla-Järve',  33],\n",
    "            ['Lääne-Virumaa', 32],\n",
    "            ['Läänemaa',      47],\n",
    "            ['Narva',         35],\n",
    "            ['Põlvamaa',      79],\n",
    "            ['Pärnu',         30],\n",
    "            ['Raplamaa',      48],\n",
    "            ['Saaremaa',      45],\n",
    "            ['Sillamäe',      39],\n",
    "            ['Tallinn',       10],\n",
    "            ['Tartu',         70],\n",
    "            ['Tartumaa',      40],\n",
    "            ['Valgamaa',      76],\n",
    "            ['Viljandimaa',   43],\n",
    "            ['Võrumaa',       78],\n",
    "           ]"
   ]
  },
  {
   "cell_type": "code",
   "execution_count": 5,
   "metadata": {},
   "outputs": [],
   "source": [
    "def yl15(name,tel,j):\n",
    "    df = pd.read_excel(name, sheet_name=j, header=2)\n",
    "    df = df.drop(labels=[0,1,2,3,4,5], axis=0)\n",
    "    df.fillna('', inplace=True)\n",
    "    df['Piirkond'] = [code.split('-')[1] for code in df['Kood'].values]\n",
    "    df = df.loc[df['Piirkond'].isin([str(tel)])]\n",
    "    if tel == 10:\n",
    "        pass\n",
    "        df = df.drop(columns=['Kokku'])\n",
    "        from1to5 = [float(str(value).replace('-','0').replace('*','0')) for value in df['Kokku viis ülesannet'].values]\n",
    "        div6by2  = [float(str(value).replace('-','0').replace('*','0'))*0.5 for value in df[6].values]\n",
    "        df = df.drop(columns=[6])\n",
    "        df[6] = div6by2\n",
    "        df['Kokku'] = [x + y for x, y in zip(from1to5, div6by2)]\n",
    "        df = df.drop(columns=['Kokku viis ülesannet','Piirkond'])\n",
    "        df = df.loc[:, 'Kood':'Kokku'].sort_values(by=['Kokku'],ascending=False)\n",
    "    else:\n",
    "        df = df.drop(columns=[6])\n",
    "        df = df.loc[:, 'Kood':'Kokku viis ülesannet'].sort_values(by=['Kokku viis ülesannet'],ascending=False)\n",
    "        df.rename(columns={'Kokku viis ülesannet':'Kokku'}, inplace=True)\n",
    "    df.to_string()\n",
    "    return df\n",
    "\n",
    "def yl16(name,tel,j):\n",
    "    df = pd.read_excel(name, sheet_name=j, header=2)\n",
    "    df = df.drop(labels=[0,1,2,3,4,5], axis=0)\n",
    "    df.fillna('', inplace=True)\n",
    "    df['Piirkond'] = [code.split('-')[1] for code in df['Kood'].values]\n",
    "    df = df.loc[df['Piirkond'].isin([str(tel)])]\n",
    "    df = df.loc[:, 'Kood':'Kokku'].sort_values(by=['Kokku'],ascending=False)\n",
    "    df.to_string()\n",
    "    return df"
   ]
  },
  {
   "cell_type": "code",
   "execution_count": 6,
   "metadata": {},
   "outputs": [],
   "source": [
    "for i in range(len(piirkond)):\n",
    "    koht = piirkond[i][0]\n",
    "    tel  = piirkond[i][1]\n",
    "    writer = pd.ExcelWriter('{0}_keemiaolümpiaadi_piirkonnavooru_tulemused_2021-2022.xlsx'.format(koht), engine = 'xlsxwriter')\n",
    "    for j in range(len(klass)):\n",
    "        if klass[j] == 8:\n",
    "            df = yl16('2021_2022.xlsx',tel,j)\n",
    "            df.to_excel(writer, sheet_name = '{0}. klass'.format(klass[j]), index=False, index_label=None)\n",
    "        else:\n",
    "            df = yl15('2021_2022.xlsx',tel,j)\n",
    "            df.to_excel(writer, sheet_name = '{0}. klass'.format(klass[j]), index=False, index_label=None)  \n",
    "    writer.close()"
   ]
  },
  {
   "cell_type": "code",
   "execution_count": null,
   "metadata": {},
   "outputs": [],
   "source": []
  }
 ],
 "metadata": {
  "kernelspec": {
   "display_name": "Python 3",
   "language": "python",
   "name": "python3"
  },
  "language_info": {
   "codemirror_mode": {
    "name": "ipython",
    "version": 3
   },
   "file_extension": ".py",
   "mimetype": "text/x-python",
   "name": "python",
   "nbconvert_exporter": "python",
   "pygments_lexer": "ipython3",
   "version": "3.8.5"
  }
 },
 "nbformat": 4,
 "nbformat_minor": 4
}
